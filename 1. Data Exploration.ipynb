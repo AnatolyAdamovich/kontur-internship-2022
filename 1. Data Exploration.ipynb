{
 "cells": [
  {
   "cell_type": "code",
   "execution_count": 197,
   "id": "f447ac04",
   "metadata": {},
   "outputs": [],
   "source": [
    "# analysis\n",
    "import numpy as np\n",
    "import pandas as pd\n",
    "\n",
    "# visualize\n",
    "import matplotlib.pyplot as plt\n",
    "%matplotlib inline\n",
    "import seaborn as sns\n",
    "sns.set_theme(font_scale=1.05, style='whitegrid', palette='bright')\n",
    "\n",
    "# for nlp \n",
    "from nltk import word_tokenize, Text, FreqDist\n",
    "from nltk.corpus import stopwords\n",
    "from nltk.stem import SnowballStemmer\n",
    "from pymorphy2 import MorphAnalyzer\n",
    "import re\n",
    "import string"
   ]
  },
  {
   "cell_type": "markdown",
   "id": "c226defd",
   "metadata": {},
   "source": [
    "# Посмотрим на данные"
   ]
  },
  {
   "cell_type": "code",
   "execution_count": 174,
   "id": "0754312b",
   "metadata": {},
   "outputs": [
    {
     "name": "stdout",
     "output_type": "stream",
     "text": [
      "Количество заголовков в тренировочном датасете:  5758\n",
      "Количество заголовков в тестовом датасете:  1000\n"
     ]
    }
   ],
   "source": [
    "train = pd.read_csv('dataset/train.tsv', sep='\\t')\n",
    "test = pd.read_csv('dataset/test.tsv', sep='\\t')\n",
    "print('Количество заголовков в тренировочном датасете: ', len(train))\n",
    "print('Количество заголовков в тестовом датасете: ', len(test))"
   ]
  },
  {
   "cell_type": "code",
   "execution_count": 175,
   "id": "817171ef",
   "metadata": {},
   "outputs": [
    {
     "data": {
      "text/html": [
       "<div>\n",
       "<style scoped>\n",
       "    .dataframe tbody tr th:only-of-type {\n",
       "        vertical-align: middle;\n",
       "    }\n",
       "\n",
       "    .dataframe tbody tr th {\n",
       "        vertical-align: top;\n",
       "    }\n",
       "\n",
       "    .dataframe thead th {\n",
       "        text-align: right;\n",
       "    }\n",
       "</style>\n",
       "<table border=\"1\" class=\"dataframe\">\n",
       "  <thead>\n",
       "    <tr style=\"text-align: right;\">\n",
       "      <th></th>\n",
       "      <th>count</th>\n",
       "    </tr>\n",
       "  </thead>\n",
       "  <tbody>\n",
       "    <tr>\n",
       "      <th>real</th>\n",
       "      <td>2879</td>\n",
       "    </tr>\n",
       "    <tr>\n",
       "      <th>fake</th>\n",
       "      <td>2879</td>\n",
       "    </tr>\n",
       "  </tbody>\n",
       "</table>\n",
       "</div>"
      ],
      "text/plain": [
       "      count\n",
       "real   2879\n",
       "fake   2879"
      ]
     },
     "execution_count": 175,
     "metadata": {},
     "output_type": "execute_result"
    }
   ],
   "source": [
    "# распределение классов\n",
    "train.groupby('is_fake').count().reset_index() \\\n",
    "                        .rename(columns={'title':'count'}, \n",
    "                               index={0:'real', 1: 'fake'}) \\\n",
    "                        .drop('is_fake', axis=1)"
   ]
  },
  {
   "cell_type": "code",
   "execution_count": 176,
   "id": "ed39d6e5",
   "metadata": {},
   "outputs": [
    {
     "name": "stdout",
     "output_type": "stream",
     "text": [
      "|FAKE|: Москвичу Владимиру Клутину пришёл счёт за вмешательство в американские выборы\n",
      "|FAKE|: Марат Хуснуллин призвал прописать в законе понятие многонационального дома\n",
      "|REAL|: Ubisoft анонсировала новую часть игры Ghost Recon\n",
      "|FAKE|: В Ольгино объяснили большое количество комментариев под сообщением Володина о QR-кодах\n",
      "|REAL|: Инженеры Cisco Systems создали сорокаядерный процессор\n",
      "|REAL|: Fox начала работу над экранизацией Вольтрона\n",
      "|FAKE|: Из-за сбоя приложения «Моя конституция» в России могут ввести конституционную монархию\n",
      "|REAL|: Росприроднадзор потребовал отозвать лицензии у британских нефтяников\n",
      "|FAKE|: Доллар рухнул после отказа ФНБ от американской валюты\n",
      "|REAL|: Старую PlayStation расплавили c помощью газа и термита\n",
      "|FAKE|: Любовь Соболь пообещала продолжить борьбу в Сирии\n",
      "|FAKE|: Депутаты Думы устроили давку и драку во время распродажи долларов по льготному курсу\n",
      "|REAL|: Словари ABBYY Lingvo получили функцию видеоперевода\n",
      "|FAKE|: ВШЭ установила 90-процентную квоту при приёме девушек, представителей ЛГБТ и национальных меньшинств\n",
      "|FAKE|: Oxxxуmiron признался, что авторами текстов в его новом альбоме являются гострайтер и нейросеть\n",
      "|FAKE|: Людмила Путина потребовала половину дворца в Геленджике\n",
      "|REAL|: Тренер российского клуба поклялся тремя детьми в честной игре\n",
      "|FAKE|: Армения к 2024 году перейдёт на кириллицу\n",
      "|FAKE|: Гражданин Белоруссии испражнился на здание Международного суда ООН в Гааге\n",
      "|REAL|: Лихтенштейн помешает иностранцам уходить от налогов\n",
      "|REAL|: Джереми Айронс сыграет Генриха IV в телефильме\n",
      "|REAL|: Теодору Рузвельту продлят срок службы\n",
      "|REAL|: Японский экспорт сократился в ноябре на четверть\n",
      "|FAKE|: Из-за дефицита урана тепловыделяющие сборки на Белорусской АЭС заменят процессорами AMD\n",
      "|REAL|: Эмблему Олимпиады-2020 в Токио заменят из-за обвинений в плагиате\n",
      "|FAKE|: Из-за ужесточения санитарных норм апарт-отель Аркадия Ротенберга оказался на грани банкротства\n",
      "|REAL|: Телекомментатор отказался извиняться перед Плющенко\n",
      "|FAKE|: Центробанк будет лишать лицензии банки, предоставляющие кредиты на покупку игровых приставок\n",
      "|FAKE|: Во ФСИН не смогли объяснить, как Ефремов снялся в сериале 2021 года\n",
      "|REAL|: Бактерии превратят растения в спирт\n",
      "|FAKE|: «Марш побежденных»: арестованных протестующих проведут под конвоем по центру Москвы\n",
      "|FAKE|: Анатолий Вассерман на пресс-конференции верно ответил на 50 вопросов журналистов\n",
      "|FAKE|: Уралвагонзавод приостановил работу из-за задержания рабочих вечерней смены\n",
      "|FAKE|: В «Сколково» выпустили новую модель клюкала\n",
      "|REAL|: Бывший совладелец «ЮКОСа» рассказал о доле Березовского в «Сибнефти»\n",
      "|REAL|: Локомотив выиграл Кубок России\n",
      "|REAL|: Динамо выкупит акции футбольного клуба у Федорычева\n",
      "|REAL|: Сандра Буллок удочерила девочку из детского дома\n",
      "|REAL|: Эксимбанк решил предоставить ТНК гарантии на 490 миллионов долларов\n",
      "|REAL|: Выплаты по внешнему долгу России сократятся в два раза\n",
      "|REAL|: План Обамы не спас фондовые индексы США от обвала\n",
      "|FAKE|: «Первый канал» покажет 23 февраля фильм о «дворце Путина» в переводе Гоблина\n",
      "|FAKE|: В Госдуме предложили запретить СМИ сообщать о преступлениях\n",
      "|FAKE|: Следственный комитет проверит картины Третьяковки на наличие порнографии\n",
      "|REAL|: На российском рынке бытовой техники появится монополия\n",
      "|REAL|: Владельцы прав на произведения Толкиена подали в суд на New Line Cinema\n",
      "|FAKE|: Валерий Рашкин объявился в Мексике\n",
      "|FAKE|: Сбежавшего от правосудия итальянца-мафиози выдал его кулинарный канал на YouTube\n",
      "|REAL|: Боец UFC пообещал не трогать матерей соперников\n",
      "|REAL|: Джимми Пейдж соберет новую группу\n"
     ]
    }
   ],
   "source": [
    "classes = {0:'REAL', 1:'FAKE'}\n",
    "\n",
    "# 50 заголовков и их метки\n",
    "for i in range(0, 500, 10):\n",
    "    title, target = train.iloc[i].title, train.iloc[i].is_fake\n",
    "    print(f'|{classes[target]}|: {title}')"
   ]
  },
  {
   "cell_type": "markdown",
   "id": "2adac36b",
   "metadata": {},
   "source": [
    "Исходя из исходного датасета (*и здравого смысла*) заголовки, относящиеся к классу REAL(0), в большинстве своем постулируют **факты**:  \n",
    "- «Барселона» вышла в четвертьфинал Лиги чемпионов\n",
    "- Бывший форвард сборной ЮАР по футболу погиб в ДТП  \n",
    "- Инженеры Cisco Systems создали сорокаядерный процессор  \n",
    "\n",
    "Заголовки, относящиеся к классу FAKE(1), - это, по большей части, **громкие новости**, порой не поддающиеся логическому обоснованию (*Алиса Теплякова планирует выйти на пенсию в 18 лет*). В них, на первый взгляд, чаще звучат имена ('Андрей Кондрашов', 'Станислав Черчесов', 'Ольга Бузова', ...) и запреты ('запретить, незаконный',...)."
   ]
  },
  {
   "cell_type": "markdown",
   "id": "7ece4395",
   "metadata": {},
   "source": [
    "# Распределения\n",
    "Посчитаем статистики имеющихся данных и посмотрим на распределения относительно этих статистик по каждому классу.\n",
    "## По словам"
   ]
  },
  {
   "cell_type": "code",
   "execution_count": 177,
   "id": "350661d6",
   "metadata": {},
   "outputs": [
    {
     "data": {
      "text/html": [
       "<div>\n",
       "<style scoped>\n",
       "    .dataframe tbody tr th:only-of-type {\n",
       "        vertical-align: middle;\n",
       "    }\n",
       "\n",
       "    .dataframe tbody tr th {\n",
       "        vertical-align: top;\n",
       "    }\n",
       "\n",
       "    .dataframe thead th {\n",
       "        text-align: right;\n",
       "    }\n",
       "</style>\n",
       "<table border=\"1\" class=\"dataframe\">\n",
       "  <thead>\n",
       "    <tr style=\"text-align: right;\">\n",
       "      <th></th>\n",
       "      <th>title</th>\n",
       "      <th>is_fake</th>\n",
       "      <th>words_count</th>\n",
       "    </tr>\n",
       "  </thead>\n",
       "  <tbody>\n",
       "    <tr>\n",
       "      <th>0</th>\n",
       "      <td>Москвичу Владимиру Клутину пришёл счёт за вмеш...</td>\n",
       "      <td>1</td>\n",
       "      <td>10</td>\n",
       "    </tr>\n",
       "    <tr>\n",
       "      <th>1</th>\n",
       "      <td>Агент Кокорина назвал езду по встречке житейск...</td>\n",
       "      <td>0</td>\n",
       "      <td>8</td>\n",
       "    </tr>\n",
       "    <tr>\n",
       "      <th>2</th>\n",
       "      <td>Госдума рассмотрит возможность введения секрет...</td>\n",
       "      <td>1</td>\n",
       "      <td>8</td>\n",
       "    </tr>\n",
       "    <tr>\n",
       "      <th>3</th>\n",
       "      <td>ФАС заблокировала поставку скоростных трамваев...</td>\n",
       "      <td>0</td>\n",
       "      <td>7</td>\n",
       "    </tr>\n",
       "    <tr>\n",
       "      <th>4</th>\n",
       "      <td>Против Навального завели дело о недоносительст...</td>\n",
       "      <td>1</td>\n",
       "      <td>8</td>\n",
       "    </tr>\n",
       "  </tbody>\n",
       "</table>\n",
       "</div>"
      ],
      "text/plain": [
       "                                               title  is_fake  words_count\n",
       "0  Москвичу Владимиру Клутину пришёл счёт за вмеш...        1           10\n",
       "1  Агент Кокорина назвал езду по встречке житейск...        0            8\n",
       "2  Госдума рассмотрит возможность введения секрет...        1            8\n",
       "3  ФАС заблокировала поставку скоростных трамваев...        0            7\n",
       "4  Против Навального завели дело о недоносительст...        1            8"
      ]
     },
     "execution_count": 177,
     "metadata": {},
     "output_type": "execute_result"
    }
   ],
   "source": [
    "# количество слов в заголовке\n",
    "train['words_count'] = train.title.apply(lambda sen: len(sen.split()))\n",
    "train.head(5)"
   ]
  },
  {
   "cell_type": "code",
   "execution_count": 178,
   "id": "bee68a8d",
   "metadata": {},
   "outputs": [
    {
     "data": {
      "text/plain": [
       "count    2879.000000\n",
       "mean        7.353595\n",
       "std         1.805331\n",
       "min         3.000000\n",
       "25%         6.000000\n",
       "50%         7.000000\n",
       "75%         9.000000\n",
       "max        15.000000\n",
       "Name: words_count, dtype: float64"
      ]
     },
     "execution_count": 178,
     "metadata": {},
     "output_type": "execute_result"
    }
   ],
   "source": [
    "# Статистики по количеству слов для реальных новостей\n",
    "train[train.is_fake==0].words_count.describe()"
   ]
  },
  {
   "cell_type": "code",
   "execution_count": 179,
   "id": "a592c239",
   "metadata": {},
   "outputs": [
    {
     "data": {
      "text/plain": [
       "count    2879.000000\n",
       "mean       10.093783\n",
       "std         2.964738\n",
       "min         3.000000\n",
       "25%         8.000000\n",
       "50%        10.000000\n",
       "75%        12.000000\n",
       "max        37.000000\n",
       "Name: words_count, dtype: float64"
      ]
     },
     "execution_count": 179,
     "metadata": {},
     "output_type": "execute_result"
    }
   ],
   "source": [
    "# Статистики по количеству слов для выдуманных новостей\n",
    "train[train.is_fake==1].words_count.describe()"
   ]
  },
  {
   "cell_type": "code",
   "execution_count": 180,
   "id": "4b29d7a7",
   "metadata": {},
   "outputs": [
    {
     "data": {
      "text/plain": [
       "Text(0.5, 1.0, 'Распределение по словам')"
      ]
     },
     "execution_count": 180,
     "metadata": {},
     "output_type": "execute_result"
    },
    {
     "data": {
      "image/png": "[encoded data removed]",
      "text/plain": [
       "<Figure size 1080x504 with 1 Axes>"
      ]
     },
     "metadata": {},
     "output_type": "display_data"
    }
   ],
   "source": [
    "# визуально\n",
    "plt.figure(figsize=(15, 7))\n",
    "sns.histplot(data = train, x='words_count', hue='is_fake', binrange=(4, 37), stat='count', binwidth=3)\n",
    "plt.legend(['fake', 'real'])\n",
    "plt.xlabel('Количество слов в заголовке')\n",
    "plt.ylabel('Число заголовков')\n",
    "plt.title('Распределение по словам')"
   ]
  },
  {
   "cell_type": "markdown",
   "id": "d154f476",
   "metadata": {},
   "source": [
    "Наблюдается тенденция: *чем больше слов в заголовке, тем вероятнее то, что он относится классу FAKE*. При этом выдуманных новостей, в которых примерно 4-6 слов, - очень мало по сравнению с реальными новостями (с тем же количество слов). Более того, максимальный по длине заголовок в *реальных новостях* состоит всего из 15 слов.\n",
    "\n",
    "\n",
    "Как известно, для текстов, \"сильно\" отличающихся по длине, хорошо подходит **разреженное векторное представление**. В случае такого представления будут хорошо работать линейные модели. Однако такой подход плохо учитывает семантику предложения."
   ]
  },
  {
   "cell_type": "markdown",
   "id": "1527b37c",
   "metadata": {},
   "source": [
    "## По пунктационным знакам\n",
    "Рассмотрим теперь, как часто в выдуманных и реальных новостях встречаются разные знаки препинания"
   ]
  },
  {
   "cell_type": "code",
   "execution_count": 181,
   "id": "591ceb1c",
   "metadata": {},
   "outputs": [
    {
     "data": {
      "text/html": [
       "<div>\n",
       "<style scoped>\n",
       "    .dataframe tbody tr th:only-of-type {\n",
       "        vertical-align: middle;\n",
       "    }\n",
       "\n",
       "    .dataframe tbody tr th {\n",
       "        vertical-align: top;\n",
       "    }\n",
       "\n",
       "    .dataframe thead th {\n",
       "        text-align: right;\n",
       "    }\n",
       "</style>\n",
       "<table border=\"1\" class=\"dataframe\">\n",
       "  <thead>\n",
       "    <tr style=\"text-align: right;\">\n",
       "      <th></th>\n",
       "      <th>title</th>\n",
       "      <th>is_fake</th>\n",
       "      <th>words_count</th>\n",
       "      <th>puncts_count</th>\n",
       "    </tr>\n",
       "  </thead>\n",
       "  <tbody>\n",
       "    <tr>\n",
       "      <th>5748</th>\n",
       "      <td>Московский чиновник после получения крупной вз...</td>\n",
       "      <td>1</td>\n",
       "      <td>9</td>\n",
       "      <td>0</td>\n",
       "    </tr>\n",
       "    <tr>\n",
       "      <th>5749</th>\n",
       "      <td>Resistance: Retribution выйдет в марте</td>\n",
       "      <td>0</td>\n",
       "      <td>5</td>\n",
       "      <td>1</td>\n",
       "    </tr>\n",
       "    <tr>\n",
       "      <th>5750</th>\n",
       "      <td>Экономика Франции избежала рецессии</td>\n",
       "      <td>0</td>\n",
       "      <td>4</td>\n",
       "      <td>0</td>\n",
       "    </tr>\n",
       "    <tr>\n",
       "      <th>5751</th>\n",
       "      <td>Российский чемпион Олимпиады-2008 перешел в пр...</td>\n",
       "      <td>0</td>\n",
       "      <td>7</td>\n",
       "      <td>1</td>\n",
       "    </tr>\n",
       "    <tr>\n",
       "      <th>5752</th>\n",
       "      <td>Устроивший пробку контейнеровоз не выпустят из...</td>\n",
       "      <td>1</td>\n",
       "      <td>8</td>\n",
       "      <td>0</td>\n",
       "    </tr>\n",
       "    <tr>\n",
       "      <th>5753</th>\n",
       "      <td>Эдди Чемберс получил сотрясение мозга в бою с ...</td>\n",
       "      <td>0</td>\n",
       "      <td>9</td>\n",
       "      <td>0</td>\n",
       "    </tr>\n",
       "    <tr>\n",
       "      <th>5754</th>\n",
       "      <td>Правительство застроит Россию нефтепродуктопро...</td>\n",
       "      <td>0</td>\n",
       "      <td>4</td>\n",
       "      <td>0</td>\n",
       "    </tr>\n",
       "    <tr>\n",
       "      <th>5755</th>\n",
       "      <td>«Мне стыдно перед дедом»: новый канцлер ФРГ об...</td>\n",
       "      <td>1</td>\n",
       "      <td>13</td>\n",
       "      <td>3</td>\n",
       "    </tr>\n",
       "    <tr>\n",
       "      <th>5756</th>\n",
       "      <td>Туркмения в декабре начнет поставки газа в Китай</td>\n",
       "      <td>0</td>\n",
       "      <td>8</td>\n",
       "      <td>0</td>\n",
       "    </tr>\n",
       "    <tr>\n",
       "      <th>5757</th>\n",
       "      <td>Бывший тренер Локомотива возглавил нальчикский...</td>\n",
       "      <td>0</td>\n",
       "      <td>6</td>\n",
       "      <td>0</td>\n",
       "    </tr>\n",
       "  </tbody>\n",
       "</table>\n",
       "</div>"
      ],
      "text/plain": [
       "                                                  title  is_fake  words_count  \\\n",
       "5748  Московский чиновник после получения крупной вз...        1            9   \n",
       "5749             Resistance: Retribution выйдет в марте        0            5   \n",
       "5750                Экономика Франции избежала рецессии        0            4   \n",
       "5751  Российский чемпион Олимпиады-2008 перешел в пр...        0            7   \n",
       "5752  Устроивший пробку контейнеровоз не выпустят из...        1            8   \n",
       "5753  Эдди Чемберс получил сотрясение мозга в бою с ...        0            9   \n",
       "5754  Правительство застроит Россию нефтепродуктопро...        0            4   \n",
       "5755  «Мне стыдно перед дедом»: новый канцлер ФРГ об...        1           13   \n",
       "5756   Туркмения в декабре начнет поставки газа в Китай        0            8   \n",
       "5757  Бывший тренер Локомотива возглавил нальчикский...        0            6   \n",
       "\n",
       "      puncts_count  \n",
       "5748             0  \n",
       "5749             1  \n",
       "5750             0  \n",
       "5751             1  \n",
       "5752             0  \n",
       "5753             0  \n",
       "5754             0  \n",
       "5755             3  \n",
       "5756             0  \n",
       "5757             0  "
      ]
     },
     "metadata": {},
     "output_type": "display_data"
    }
   ],
   "source": [
    "punct_chars = string.punctuation + \"«»\"\n",
    "# количество пунктационных знаков в заголовке\n",
    "train['puncts_count'] = train.title.apply(lambda sen: len([ch for ch in sen if ch in punct_chars]))\n",
    "display(train.tail(10))"
   ]
  },
  {
   "cell_type": "code",
   "execution_count": 182,
   "id": "9c167c02",
   "metadata": {},
   "outputs": [
    {
     "data": {
      "text/plain": [
       "Text(0.5, 1.0, 'Распределение по пунктационным знакам')"
      ]
     },
     "execution_count": 182,
     "metadata": {},
     "output_type": "execute_result"
    },
    {
     "data": {
      "image/png": "[encoded data removed]",
      "text/plain": [
       "<Figure size 864x360 with 1 Axes>"
      ]
     },
     "metadata": {},
     "output_type": "display_data"
    }
   ],
   "source": [
    "plt.figure(figsize=(12, 5))\n",
    "sns.histplot(data = train, x='puncts_count', hue='is_fake', stat='count', binwidth=0.5)\n",
    "plt.legend(['fake', 'real'])\n",
    "plt.xlabel('Количество пунктационных знаков')\n",
    "plt.ylabel('Число заголовков')\n",
    "plt.title('Распределение по пунктационным знакам')"
   ]
  },
  {
   "cell_type": "markdown",
   "id": "a9fc5437",
   "metadata": {},
   "source": [
    "В случае пунктационных знаков наблюдается похожая ситуация: *чем больше знаков, тем заголовок ближе (по вероятности) к классу FAKE*."
   ]
  },
  {
   "cell_type": "markdown",
   "id": "c2401681",
   "metadata": {},
   "source": [
    " # Частотный анализ\n",
    " Рассмотрим, какие слова встречаются наиболее часто\n",
    " \n",
    "## Токенизация без предобработки"
   ]
  },
  {
   "cell_type": "code",
   "execution_count": 183,
   "id": "1268c32e",
   "metadata": {},
   "outputs": [
    {
     "name": "stdout",
     "output_type": "stream",
     "text": [
      "Количество слов:  53397\n"
     ]
    },
    {
     "data": {
      "text/plain": [
       "[('в', 2493),\n",
       " ('на', 1246),\n",
       " ('»', 995),\n",
       " ('«', 994),\n",
       " (',', 695),\n",
       " ('с', 500),\n",
       " ('и', 494),\n",
       " ('за', 433),\n",
       " ('россии', 401),\n",
       " ('по', 382)]"
      ]
     },
     "execution_count": 183,
     "metadata": {},
     "output_type": "execute_result"
    }
   ],
   "source": [
    "train['lower_title'] = train.title.apply(lambda sen: sen.lower())\n",
    "words = word_tokenize(\" \".join(train.lower_title.tolist()))\n",
    "tokens = Text(words)\n",
    "\n",
    "print(f'Количество слов: ', len(tokens)) \n",
    "tokensFreq  = FreqDist(tokens)\n",
    "tokensFreq.most_common(10)"
   ]
  },
  {
   "cell_type": "markdown",
   "id": "4b6dc770",
   "metadata": {},
   "source": [
    "Очевидно, что самые часто встречаемые слова - это, так называемые, **стоп-слова** (предлоги, союзы и прочее). Интересен тот факт, что первое **простое слово**, которое встречается в заголовках, - это слово \"Россия\". Кроме того, легко заметить, что очень часто встречаются кавычки - '«' и '»' (отметим также, что их частота отличается на единичку => где-то, вероятно, есть \"артефакт\"). Это говорит о том, что в определенном числе заголовков присутствуют цитаты/названия чего-либо)."
   ]
  },
  {
   "cell_type": "code",
   "execution_count": 184,
   "id": "ff9a5590",
   "metadata": {},
   "outputs": [
    {
     "name": "stdout",
     "output_type": "stream",
     "text": [
      "Всего заголовков:  5758\n",
      "\n",
      "Джейми Оливер: «Книга о вкусной и здоровой пище» — моя Библия»\n",
      "Видеоклип «Победа» ломает виолончели» набрал 12 миллионов просмотров за два дня\n",
      "«Мы готовим перезапуск телепередачи «Форт Боярд»: Константин Эрнст раскрыл истинное назначение дворца под Геленджиком\n",
      "\n",
      "Число заголовков с цитатами/названиями:  885\n"
     ]
    }
   ],
   "source": [
    "# попробуем найти артефакты, если они есть\n",
    "titles = train.title.tolist()\n",
    "print('Всего заголовков: ', len(titles))\n",
    "print()\n",
    "\n",
    "tmp_count = 0\n",
    "for t in titles:\n",
    "    left, right = len(re.findall('«', t)), len(re.findall('»', t))\n",
    "    if left == right:\n",
    "        if left != 0:\n",
    "            tmp_count += 1\n",
    "    else:\n",
    "        # артефакт\n",
    "        print(t)\n",
    "\n",
    "print()\n",
    "print(f'Число заголовков с цитатами/названиями: ', tmp_count)"
   ]
  },
  {
   "cell_type": "markdown",
   "id": "fbfd88db",
   "metadata": {},
   "source": [
    "Посмотрим, выполняется ли **Закон Ципфа**:"
   ]
  },
  {
   "cell_type": "code",
   "execution_count": 185,
   "id": "8694fcdb",
   "metadata": {},
   "outputs": [
    {
     "data": {
      "image/png": "[encoded data removed]",
      "text/plain": [
       "<Figure size 1008x360 with 1 Axes>"
      ]
     },
     "metadata": {},
     "output_type": "display_data"
    },
    {
     "data": {
      "text/plain": [
       "<AxesSubplot:xlabel='Samples', ylabel='Counts'>"
      ]
     },
     "metadata": {},
     "output_type": "display_data"
    }
   ],
   "source": [
    "plt.figure(figsize=(14, 5))\n",
    "display(tokensFreq.plot(30))"
   ]
  },
  {
   "cell_type": "markdown",
   "id": "f4aa1081",
   "metadata": {},
   "source": [
    "## Токенизация без стоп-слов и знаков пунктуации"
   ]
  },
  {
   "cell_type": "code",
   "execution_count": 186,
   "id": "f0f1ca69",
   "metadata": {},
   "outputs": [
    {
     "data": {
      "text/html": [
       "<div>\n",
       "<style scoped>\n",
       "    .dataframe tbody tr th:only-of-type {\n",
       "        vertical-align: middle;\n",
       "    }\n",
       "\n",
       "    .dataframe tbody tr th {\n",
       "        vertical-align: top;\n",
       "    }\n",
       "\n",
       "    .dataframe thead th {\n",
       "        text-align: right;\n",
       "    }\n",
       "</style>\n",
       "<table border=\"1\" class=\"dataframe\">\n",
       "  <thead>\n",
       "    <tr style=\"text-align: right;\">\n",
       "      <th></th>\n",
       "      <th>title</th>\n",
       "      <th>is_fake</th>\n",
       "      <th>words_count</th>\n",
       "      <th>puncts_count</th>\n",
       "      <th>lower_title</th>\n",
       "      <th>no_punct_and_stops</th>\n",
       "    </tr>\n",
       "  </thead>\n",
       "  <tbody>\n",
       "    <tr>\n",
       "      <th>5753</th>\n",
       "      <td>Эдди Чемберс получил сотрясение мозга в бою с ...</td>\n",
       "      <td>0</td>\n",
       "      <td>9</td>\n",
       "      <td>0</td>\n",
       "      <td>эдди чемберс получил сотрясение мозга в бою с ...</td>\n",
       "      <td>эдди чемберс получил сотрясение мозга бою кличко</td>\n",
       "    </tr>\n",
       "    <tr>\n",
       "      <th>5754</th>\n",
       "      <td>Правительство застроит Россию нефтепродуктопро...</td>\n",
       "      <td>0</td>\n",
       "      <td>4</td>\n",
       "      <td>0</td>\n",
       "      <td>правительство застроит россию нефтепродуктопро...</td>\n",
       "      <td>правительство застроит россию нефтепродуктопро...</td>\n",
       "    </tr>\n",
       "    <tr>\n",
       "      <th>5755</th>\n",
       "      <td>«Мне стыдно перед дедом»: новый канцлер ФРГ об...</td>\n",
       "      <td>1</td>\n",
       "      <td>13</td>\n",
       "      <td>3</td>\n",
       "      <td>«мне стыдно перед дедом»: новый канцлер фрг об...</td>\n",
       "      <td>стыдно дедом новый канцлер фрг обратился перво...</td>\n",
       "    </tr>\n",
       "    <tr>\n",
       "      <th>5756</th>\n",
       "      <td>Туркмения в декабре начнет поставки газа в Китай</td>\n",
       "      <td>0</td>\n",
       "      <td>8</td>\n",
       "      <td>0</td>\n",
       "      <td>туркмения в декабре начнет поставки газа в китай</td>\n",
       "      <td>туркмения декабре начнет поставки газа китай</td>\n",
       "    </tr>\n",
       "    <tr>\n",
       "      <th>5757</th>\n",
       "      <td>Бывший тренер Локомотива возглавил нальчикский...</td>\n",
       "      <td>0</td>\n",
       "      <td>6</td>\n",
       "      <td>0</td>\n",
       "      <td>бывший тренер локомотива возглавил нальчикский...</td>\n",
       "      <td>бывший тренер локомотива возглавил нальчикский...</td>\n",
       "    </tr>\n",
       "  </tbody>\n",
       "</table>\n",
       "</div>"
      ],
      "text/plain": [
       "                                                  title  is_fake  words_count  \\\n",
       "5753  Эдди Чемберс получил сотрясение мозга в бою с ...        0            9   \n",
       "5754  Правительство застроит Россию нефтепродуктопро...        0            4   \n",
       "5755  «Мне стыдно перед дедом»: новый канцлер ФРГ об...        1           13   \n",
       "5756   Туркмения в декабре начнет поставки газа в Китай        0            8   \n",
       "5757  Бывший тренер Локомотива возглавил нальчикский...        0            6   \n",
       "\n",
       "      puncts_count                                        lower_title  \\\n",
       "5753             0  эдди чемберс получил сотрясение мозга в бою с ...   \n",
       "5754             0  правительство застроит россию нефтепродуктопро...   \n",
       "5755             3  «мне стыдно перед дедом»: новый канцлер фрг об...   \n",
       "5756             0   туркмения в декабре начнет поставки газа в китай   \n",
       "5757             0  бывший тренер локомотива возглавил нальчикский...   \n",
       "\n",
       "                                     no_punct_and_stops  \n",
       "5753   эдди чемберс получил сотрясение мозга бою кличко  \n",
       "5754  правительство застроит россию нефтепродуктопро...  \n",
       "5755  стыдно дедом новый канцлер фрг обратился перво...  \n",
       "5756       туркмения декабре начнет поставки газа китай  \n",
       "5757  бывший тренер локомотива возглавил нальчикский...  "
      ]
     },
     "execution_count": 186,
     "metadata": {},
     "output_type": "execute_result"
    }
   ],
   "source": [
    "# punct_chars <- знаки пунктуации\n",
    "russian_stop_words = stopwords.words(\"russian\")\n",
    "russian_stop_words.extend(['из-за'])\n",
    "\n",
    "\n",
    "def delete_stop_and_punct(sentence):\n",
    "    tokens = word_tokenize(sentence)\n",
    "    result = []\n",
    "    for t in tokens:\n",
    "        if (t in russian_stop_words) or (t in punct_chars):\n",
    "            continue\n",
    "        else:\n",
    "            result.append(t)\n",
    "    return ' '.join(result)\n",
    "\n",
    "# убираем стоп-слова и знаки пунктуации\n",
    "train['no_punct_and_stops'] = train.lower_title.apply(delete_stop_and_punct)\n",
    "train.tail(5)"
   ]
  },
  {
   "cell_type": "code",
   "execution_count": 190,
   "id": "9718550f",
   "metadata": {},
   "outputs": [
    {
     "name": "stdout",
     "output_type": "stream",
     "text": [
      "Количество слов (после удаления стоп-слов и знаков пунктуации): \n",
      "|FAKE| -> 23548 \n",
      "|REAL| -> 17757\n",
      "      Всего - 41305\n"
     ]
    }
   ],
   "source": [
    "# подсчитаем частоты слов для нового формата\n",
    "# отдельно для каждого класса\n",
    "\n",
    "words_real = word_tokenize(\" \".join(train[train.is_fake==0].no_punct_and_stops.tolist())) \n",
    "tokens_real = Text(words_real) # токены для реальных новостей\n",
    "\n",
    "words_fake = word_tokenize(\" \".join(train[train.is_fake==1].no_punct_and_stops.tolist())) \n",
    "tokens_fake = Text(words_fake) # токены для выдуманных новостей\n",
    "\n",
    "print('Количество слов (после удаления стоп-слов и знаков пунктуации): ')\n",
    "print(f'|FAKE| -> {len(tokens_fake)} \\n|REAL| -> {len(tokens_real)}\\n\\\n",
    "      Всего - {len(tokens_fake)+len(tokens_real)}')\n",
    "\n",
    "tokensFreq_real  = FreqDist(tokens_real)\n",
    "tokensFreq_fake  = FreqDist(tokens_fake)"
   ]
  },
  {
   "cell_type": "code",
   "execution_count": 191,
   "id": "3ad34c03",
   "metadata": {},
   "outputs": [
    {
     "data": {
      "image/png": "[encoded data removed]",
      "text/plain": [
       "<Figure size 936x360 with 2 Axes>"
      ]
     },
     "metadata": {},
     "output_type": "display_data"
    }
   ],
   "source": [
    "df_fake = pd.DataFrame(tokensFreq_fake.most_common(15), columns=['Слова', 'Частота'])\n",
    "df_real = pd.DataFrame(tokensFreq_real.most_common(15), columns=['Слова', 'Частота'])\n",
    "\n",
    "f, axs = plt.subplots(1, 2, figsize=(13, 5))\n",
    "sns.barplot(y=\"Слова\", x=\"Частота\",  data=df_real, ax=axs[0])\n",
    "sns.barplot(y=\"Слова\", x=\"Частота\",  data=df_fake, ax=axs[1])\n",
    "axs[0].set_title('Реальные новости')\n",
    "axs[1].set_title('Выдуманные новости')\n",
    "f.tight_layout()\n",
    "plt.subplots_adjust(wspace=0.5)"
   ]
  },
  {
   "cell_type": "markdown",
   "id": "8df46827",
   "metadata": {},
   "source": [
    "Частотный анализ заголовков без стоп-слов и знаков пунктуации не выявляет особых различий (вцелом встречаются похожие слова).  \n",
    "$\\color{red}{!}$Зато подтверждается наша гипотеза о том, что в выдуманных новостях часто встречаются *запреты*.\n",
    "\n"
   ]
  },
  {
   "cell_type": "markdown",
   "id": "b847ec1c",
   "metadata": {},
   "source": [
    "## Токенизация с нормализацией\n",
    "Нетрудно заметить, что в приведенных выше словарях часто встречаются разные формы очень похожих слов, например: \"России\", \"Российский\", \"Россия\", \"Россиян\". Такие \"взаимосвязанные\" слова являются препятствием к качественному анализу имеющихся данных и, кроме того, они могут повлиять на обобщающую способность модели. По этой причине есть смысл рассмотреть более продвинутую токенизацию.\n",
    "\n",
    "### Стэмминг"
   ]
  },
  {
   "cell_type": "code",
   "execution_count": 213,
   "id": "cff513db",
   "metadata": {},
   "outputs": [
    {
     "data": {
      "text/html": [
       "<div>\n",
       "<style scoped>\n",
       "    .dataframe tbody tr th:only-of-type {\n",
       "        vertical-align: middle;\n",
       "    }\n",
       "\n",
       "    .dataframe tbody tr th {\n",
       "        vertical-align: top;\n",
       "    }\n",
       "\n",
       "    .dataframe thead th {\n",
       "        text-align: right;\n",
       "    }\n",
       "</style>\n",
       "<table border=\"1\" class=\"dataframe\">\n",
       "  <thead>\n",
       "    <tr style=\"text-align: right;\">\n",
       "      <th></th>\n",
       "      <th>title</th>\n",
       "      <th>is_fake</th>\n",
       "      <th>words_count</th>\n",
       "      <th>puncts_count</th>\n",
       "      <th>lower_title</th>\n",
       "      <th>no_punct_and_stops</th>\n",
       "      <th>stemming</th>\n",
       "    </tr>\n",
       "  </thead>\n",
       "  <tbody>\n",
       "    <tr>\n",
       "      <th>0</th>\n",
       "      <td>Москвичу Владимиру Клутину пришёл счёт за вмеш...</td>\n",
       "      <td>1</td>\n",
       "      <td>10</td>\n",
       "      <td>0</td>\n",
       "      <td>москвичу владимиру клутину пришёл счёт за вмеш...</td>\n",
       "      <td>москвичу владимиру клутину пришёл счёт вмешате...</td>\n",
       "      <td>москвич владимир клутин пришел счет вмешательс...</td>\n",
       "    </tr>\n",
       "    <tr>\n",
       "      <th>1</th>\n",
       "      <td>Агент Кокорина назвал езду по встречке житейск...</td>\n",
       "      <td>0</td>\n",
       "      <td>8</td>\n",
       "      <td>0</td>\n",
       "      <td>агент кокорина назвал езду по встречке житейск...</td>\n",
       "      <td>агент кокорина назвал езду встречке житейской ...</td>\n",
       "      <td>агент кокорин назва езд встречк житейск истор</td>\n",
       "    </tr>\n",
       "    <tr>\n",
       "      <th>2</th>\n",
       "      <td>Госдума рассмотрит возможность введения секрет...</td>\n",
       "      <td>1</td>\n",
       "      <td>8</td>\n",
       "      <td>0</td>\n",
       "      <td>госдума рассмотрит возможность введения секрет...</td>\n",
       "      <td>госдума рассмотрит возможность введения секрет...</td>\n",
       "      <td>госдум рассмотр возможн введен секретн стат уг...</td>\n",
       "    </tr>\n",
       "    <tr>\n",
       "      <th>3</th>\n",
       "      <td>ФАС заблокировала поставку скоростных трамваев...</td>\n",
       "      <td>0</td>\n",
       "      <td>7</td>\n",
       "      <td>0</td>\n",
       "      <td>фас заблокировала поставку скоростных трамваев...</td>\n",
       "      <td>фас заблокировала поставку скоростных трамваев...</td>\n",
       "      <td>фас заблокирова поставк скоростн трамва москв</td>\n",
       "    </tr>\n",
       "    <tr>\n",
       "      <th>4</th>\n",
       "      <td>Против Навального завели дело о недоносительст...</td>\n",
       "      <td>1</td>\n",
       "      <td>8</td>\n",
       "      <td>0</td>\n",
       "      <td>против навального завели дело о недоносительст...</td>\n",
       "      <td>против навального завели дело недоносительстве...</td>\n",
       "      <td>прот навальн завел дел недоносительств волков</td>\n",
       "    </tr>\n",
       "    <tr>\n",
       "      <th>5</th>\n",
       "      <td>Российским студентам запретят учиться за рубежом</td>\n",
       "      <td>1</td>\n",
       "      <td>6</td>\n",
       "      <td>0</td>\n",
       "      <td>российским студентам запретят учиться за рубежом</td>\n",
       "      <td>российским студентам запретят учиться рубежом</td>\n",
       "      <td>российск студент запрет уч рубеж</td>\n",
       "    </tr>\n",
       "    <tr>\n",
       "      <th>6</th>\n",
       "      <td>Путин пишет книгу об истории Украины</td>\n",
       "      <td>1</td>\n",
       "      <td>6</td>\n",
       "      <td>0</td>\n",
       "      <td>путин пишет книгу об истории украины</td>\n",
       "      <td>путин пишет книгу истории украины</td>\n",
       "      <td>путин пишет книг истор украин</td>\n",
       "    </tr>\n",
       "    <tr>\n",
       "      <th>7</th>\n",
       "      <td>Россияне обхитрили рост цен</td>\n",
       "      <td>0</td>\n",
       "      <td>4</td>\n",
       "      <td>0</td>\n",
       "      <td>россияне обхитрили рост цен</td>\n",
       "      <td>россияне обхитрили рост цен</td>\n",
       "      <td>россиян обхитр рост цен</td>\n",
       "    </tr>\n",
       "    <tr>\n",
       "      <th>8</th>\n",
       "      <td>Звезда «Ворониных» раскрыл подробности о своем...</td>\n",
       "      <td>0</td>\n",
       "      <td>7</td>\n",
       "      <td>2</td>\n",
       "      <td>звезда «ворониных» раскрыл подробности о своем...</td>\n",
       "      <td>звезда ворониных раскрыл подробности своем сос...</td>\n",
       "      <td>звезд воронин раскр подробн сво состоян</td>\n",
       "    </tr>\n",
       "    <tr>\n",
       "      <th>9</th>\n",
       "      <td>Microsoft объявила дату выхода очков дополненн...</td>\n",
       "      <td>0</td>\n",
       "      <td>8</td>\n",
       "      <td>0</td>\n",
       "      <td>microsoft объявила дату выхода очков дополненн...</td>\n",
       "      <td>microsoft объявила дату выхода очков дополненн...</td>\n",
       "      <td>microsoft объяв дат выход очк дополнен реально...</td>\n",
       "    </tr>\n",
       "  </tbody>\n",
       "</table>\n",
       "</div>"
      ],
      "text/plain": [
       "                                               title  is_fake  words_count  \\\n",
       "0  Москвичу Владимиру Клутину пришёл счёт за вмеш...        1           10   \n",
       "1  Агент Кокорина назвал езду по встречке житейск...        0            8   \n",
       "2  Госдума рассмотрит возможность введения секрет...        1            8   \n",
       "3  ФАС заблокировала поставку скоростных трамваев...        0            7   \n",
       "4  Против Навального завели дело о недоносительст...        1            8   \n",
       "5   Российским студентам запретят учиться за рубежом        1            6   \n",
       "6               Путин пишет книгу об истории Украины        1            6   \n",
       "7                        Россияне обхитрили рост цен        0            4   \n",
       "8  Звезда «Ворониных» раскрыл подробности о своем...        0            7   \n",
       "9  Microsoft объявила дату выхода очков дополненн...        0            8   \n",
       "\n",
       "   puncts_count                                        lower_title  \\\n",
       "0             0  москвичу владимиру клутину пришёл счёт за вмеш...   \n",
       "1             0  агент кокорина назвал езду по встречке житейск...   \n",
       "2             0  госдума рассмотрит возможность введения секрет...   \n",
       "3             0  фас заблокировала поставку скоростных трамваев...   \n",
       "4             0  против навального завели дело о недоносительст...   \n",
       "5             0   российским студентам запретят учиться за рубежом   \n",
       "6             0               путин пишет книгу об истории украины   \n",
       "7             0                        россияне обхитрили рост цен   \n",
       "8             2  звезда «ворониных» раскрыл подробности о своем...   \n",
       "9             0  microsoft объявила дату выхода очков дополненн...   \n",
       "\n",
       "                                  no_punct_and_stops  \\\n",
       "0  москвичу владимиру клутину пришёл счёт вмешате...   \n",
       "1  агент кокорина назвал езду встречке житейской ...   \n",
       "2  госдума рассмотрит возможность введения секрет...   \n",
       "3  фас заблокировала поставку скоростных трамваев...   \n",
       "4  против навального завели дело недоносительстве...   \n",
       "5      российским студентам запретят учиться рубежом   \n",
       "6                  путин пишет книгу истории украины   \n",
       "7                        россияне обхитрили рост цен   \n",
       "8  звезда ворониных раскрыл подробности своем сос...   \n",
       "9  microsoft объявила дату выхода очков дополненн...   \n",
       "\n",
       "                                            stemming  \n",
       "0  москвич владимир клутин пришел счет вмешательс...  \n",
       "1      агент кокорин назва езд встречк житейск истор  \n",
       "2  госдум рассмотр возможн введен секретн стат уг...  \n",
       "3      фас заблокирова поставк скоростн трамва москв  \n",
       "4      прот навальн завел дел недоносительств волков  \n",
       "5                   российск студент запрет уч рубеж  \n",
       "6                      путин пишет книг истор украин  \n",
       "7                            россиян обхитр рост цен  \n",
       "8            звезд воронин раскр подробн сво состоян  \n",
       "9  microsoft объяв дат выход очк дополнен реально...  "
      ]
     },
     "execution_count": 213,
     "metadata": {},
     "output_type": "execute_result"
    }
   ],
   "source": [
    "snow_stem = SnowballStemmer(language='russian')\n",
    "\n",
    "def stemming(sentence):\n",
    "    tokens = word_tokenize(sentence)\n",
    "    result = []\n",
    "    for t in tokens:\n",
    "        result.append(snow_stem.stem(t))\n",
    "    return ' '.join(result)\n",
    "\n",
    "train['stemming'] = train['no_punct_and_stops'].apply(stemming)\n",
    "train.head(10)"
   ]
  },
  {
   "cell_type": "code",
   "execution_count": 222,
   "id": "aa3f7759",
   "metadata": {},
   "outputs": [
    {
     "name": "stdout",
     "output_type": "stream",
     "text": [
      "Количество слов (стэмминг + удаление стоп-слов и знаков пунктуации): \n",
      "|FAKE| -> 23548 \n",
      "|REAL| -> 17757\n",
      "      Всего - 41305\n"
     ]
    },
    {
     "data": {
      "image/png": "[encoded data removed]",
      "text/plain": [
       "<Figure size 936x360 with 2 Axes>"
      ]
     },
     "metadata": {},
     "output_type": "display_data"
    }
   ],
   "source": [
    "# подсчитаем частоты слов после стемминга\n",
    "# отдельно для каждого класса\n",
    "# и посмотрим на самые распространенные слова\n",
    "\n",
    "STEM_words_real = word_tokenize(\" \".join(train[train.is_fake==0].stemming.tolist())) \n",
    "STEM_tokens_real = Text(STEM_words_real) # токены для реальных новостей\n",
    "\n",
    "STEM_words_fake = word_tokenize(\" \".join(train[train.is_fake==1].stemming.tolist())) \n",
    "STEM_tokens_fake = Text(STEM_words_fake) # токены для выдуманных новостей\n",
    "\n",
    "print('Количество слов (стэмминг + удаление стоп-слов и знаков пунктуации): ')\n",
    "print(f'|FAKE| -> {len(STEM_tokens_fake)} \\n|REAL| -> {len(STEM_tokens_real)}\\n\\\n",
    "      Всего - {len(STEM_tokens_fake)+len(STEM_tokens_real)}')\n",
    "\n",
    "STEM_tokensFreq_real  = FreqDist(STEM_tokens_real)\n",
    "STEM_tokensFreq_fake  = FreqDist(STEM_tokens_fake)\n",
    "\n",
    "STEM_df_fake = pd.DataFrame(STEM_tokensFreq_fake.most_common(15), columns=['Слова', 'Частота'])\n",
    "STEM_df_real = pd.DataFrame(STEM_tokensFreq_real.most_common(15), columns=['Слова', 'Частота'])\n",
    "\n",
    "f, axs = plt.subplots(1, 2, figsize=(13, 5))\n",
    "sns.barplot(y=\"Слова\", x=\"Частота\",  data=STEM_df_real, ax=axs[0])\n",
    "sns.barplot(y=\"Слова\", x=\"Частота\",  data=STEM_df_fake, ax=axs[1])\n",
    "axs[0].set_title('Реальные новости')\n",
    "axs[1].set_title('Выдуманные новости')\n",
    "f.tight_layout()\n",
    "plt.subplots_adjust(wspace=0.5)"
   ]
  },
  {
   "cell_type": "markdown",
   "id": "1ba8ac87",
   "metadata": {},
   "source": [
    "### Лемматизация"
   ]
  },
  {
   "cell_type": "code",
   "execution_count": 223,
   "id": "18faead8",
   "metadata": {},
   "outputs": [
    {
     "data": {
      "text/html": [
       "<div>\n",
       "<style scoped>\n",
       "    .dataframe tbody tr th:only-of-type {\n",
       "        vertical-align: middle;\n",
       "    }\n",
       "\n",
       "    .dataframe tbody tr th {\n",
       "        vertical-align: top;\n",
       "    }\n",
       "\n",
       "    .dataframe thead th {\n",
       "        text-align: right;\n",
       "    }\n",
       "</style>\n",
       "<table border=\"1\" class=\"dataframe\">\n",
       "  <thead>\n",
       "    <tr style=\"text-align: right;\">\n",
       "      <th></th>\n",
       "      <th>title</th>\n",
       "      <th>is_fake</th>\n",
       "      <th>words_count</th>\n",
       "      <th>puncts_count</th>\n",
       "      <th>lower_title</th>\n",
       "      <th>no_punct_and_stops</th>\n",
       "      <th>stemming</th>\n",
       "      <th>lemmatization</th>\n",
       "    </tr>\n",
       "  </thead>\n",
       "  <tbody>\n",
       "    <tr>\n",
       "      <th>5753</th>\n",
       "      <td>Эдди Чемберс получил сотрясение мозга в бою с ...</td>\n",
       "      <td>0</td>\n",
       "      <td>9</td>\n",
       "      <td>0</td>\n",
       "      <td>эдди чемберс получил сотрясение мозга в бою с ...</td>\n",
       "      <td>эдди чемберс получил сотрясение мозга бою кличко</td>\n",
       "      <td>эдд чемберс получ сотрясен мозг бо кличк</td>\n",
       "      <td>эдди чемберс получить сотрясение мозг бой кличко</td>\n",
       "    </tr>\n",
       "    <tr>\n",
       "      <th>5754</th>\n",
       "      <td>Правительство застроит Россию нефтепродуктопро...</td>\n",
       "      <td>0</td>\n",
       "      <td>4</td>\n",
       "      <td>0</td>\n",
       "      <td>правительство застроит россию нефтепродуктопро...</td>\n",
       "      <td>правительство застроит россию нефтепродуктопро...</td>\n",
       "      <td>правительств застро росс нефтепродуктопровод</td>\n",
       "      <td>правительство застроить россия нефтепродуктопр...</td>\n",
       "    </tr>\n",
       "    <tr>\n",
       "      <th>5755</th>\n",
       "      <td>«Мне стыдно перед дедом»: новый канцлер ФРГ об...</td>\n",
       "      <td>1</td>\n",
       "      <td>13</td>\n",
       "      <td>3</td>\n",
       "      <td>«мне стыдно перед дедом»: новый канцлер фрг об...</td>\n",
       "      <td>стыдно дедом новый канцлер фрг обратился перво...</td>\n",
       "      <td>стыдн дед нов канцлер фрг обрат перв реч бунде...</td>\n",
       "      <td>стыдно дед новый канцлер фрг обратиться первый...</td>\n",
       "    </tr>\n",
       "    <tr>\n",
       "      <th>5756</th>\n",
       "      <td>Туркмения в декабре начнет поставки газа в Китай</td>\n",
       "      <td>0</td>\n",
       "      <td>8</td>\n",
       "      <td>0</td>\n",
       "      <td>туркмения в декабре начнет поставки газа в китай</td>\n",
       "      <td>туркмения декабре начнет поставки газа китай</td>\n",
       "      <td>туркмен декабр начнет поставк газ кита</td>\n",
       "      <td>туркмения декабрь начать поставка газ китай</td>\n",
       "    </tr>\n",
       "    <tr>\n",
       "      <th>5757</th>\n",
       "      <td>Бывший тренер Локомотива возглавил нальчикский...</td>\n",
       "      <td>0</td>\n",
       "      <td>6</td>\n",
       "      <td>0</td>\n",
       "      <td>бывший тренер локомотива возглавил нальчикский...</td>\n",
       "      <td>бывший тренер локомотива возглавил нальчикский...</td>\n",
       "      <td>бывш тренер локомотив возглав нальчикск спартак</td>\n",
       "      <td>бывший тренер локомотив возглавить нальчикский...</td>\n",
       "    </tr>\n",
       "  </tbody>\n",
       "</table>\n",
       "</div>"
      ],
      "text/plain": [
       "                                                  title  is_fake  words_count  \\\n",
       "5753  Эдди Чемберс получил сотрясение мозга в бою с ...        0            9   \n",
       "5754  Правительство застроит Россию нефтепродуктопро...        0            4   \n",
       "5755  «Мне стыдно перед дедом»: новый канцлер ФРГ об...        1           13   \n",
       "5756   Туркмения в декабре начнет поставки газа в Китай        0            8   \n",
       "5757  Бывший тренер Локомотива возглавил нальчикский...        0            6   \n",
       "\n",
       "      puncts_count                                        lower_title  \\\n",
       "5753             0  эдди чемберс получил сотрясение мозга в бою с ...   \n",
       "5754             0  правительство застроит россию нефтепродуктопро...   \n",
       "5755             3  «мне стыдно перед дедом»: новый канцлер фрг об...   \n",
       "5756             0   туркмения в декабре начнет поставки газа в китай   \n",
       "5757             0  бывший тренер локомотива возглавил нальчикский...   \n",
       "\n",
       "                                     no_punct_and_stops  \\\n",
       "5753   эдди чемберс получил сотрясение мозга бою кличко   \n",
       "5754  правительство застроит россию нефтепродуктопро...   \n",
       "5755  стыдно дедом новый канцлер фрг обратился перво...   \n",
       "5756       туркмения декабре начнет поставки газа китай   \n",
       "5757  бывший тренер локомотива возглавил нальчикский...   \n",
       "\n",
       "                                               stemming  \\\n",
       "5753           эдд чемберс получ сотрясен мозг бо кличк   \n",
       "5754       правительств застро росс нефтепродуктопровод   \n",
       "5755  стыдн дед нов канцлер фрг обрат перв реч бунде...   \n",
       "5756             туркмен декабр начнет поставк газ кита   \n",
       "5757    бывш тренер локомотив возглав нальчикск спартак   \n",
       "\n",
       "                                          lemmatization  \n",
       "5753   эдди чемберс получить сотрясение мозг бой кличко  \n",
       "5754  правительство застроить россия нефтепродуктопр...  \n",
       "5755  стыдно дед новый канцлер фрг обратиться первый...  \n",
       "5756        туркмения декабрь начать поставка газ китай  \n",
       "5757  бывший тренер локомотив возглавить нальчикский...  "
      ]
     },
     "execution_count": 223,
     "metadata": {},
     "output_type": "execute_result"
    }
   ],
   "source": [
    "morh = MorphAnalyzer()\n",
    "def lemmatization(sentence):\n",
    "    tokens = word_tokenize(sentence)\n",
    "    result = []\n",
    "    for t in tokens:\n",
    "        result.append(morh.normal_forms(t)[0])\n",
    "    return ' '.join(result)\n",
    "\n",
    "train['lemmatization'] = train.no_punct_and_stops.apply(lemmatization)\n",
    "train.tail(5)"
   ]
  },
  {
   "cell_type": "code",
   "execution_count": 224,
   "id": "9f56a68a",
   "metadata": {},
   "outputs": [
    {
     "name": "stdout",
     "output_type": "stream",
     "text": [
      "Количество слов (лемматизация + удаление стоп-слов и знаков пунктуации): \n",
      "|FAKE| -> 23548 \n",
      "|REAL| -> 17757\n",
      "      Всего - 41305\n"
     ]
    },
    {
     "data": {
      "image/png": "[encoded data removed]",
      "text/plain": [
       "<Figure size 936x360 with 2 Axes>"
      ]
     },
     "metadata": {},
     "output_type": "display_data"
    }
   ],
   "source": [
    "# подсчитаем частоты слов после лемматизации\n",
    "# отдельно для каждого класса\n",
    "# и посмотрим на самые распространенные слова\n",
    "\n",
    "LEMM_words_real = word_tokenize(\" \".join(train[train.is_fake==0].lemmatization.tolist())) \n",
    "LEMM_tokens_real = Text(LEMM_words_real) # токены для реальных новостей\n",
    "\n",
    "LEMM_words_fake = word_tokenize(\" \".join(train[train.is_fake==1].lemmatization.tolist())) \n",
    "LEMM_tokens_fake = Text(LEMM_words_fake) # токены для выдуманных новостей\n",
    "\n",
    "print('Количество слов (лемматизация + удаление стоп-слов и знаков пунктуации): ')\n",
    "print(f'|FAKE| -> {len(LEMM_tokens_fake)} \\n|REAL| -> {len(LEMM_tokens_real)}\\n\\\n",
    "      Всего - {len(LEMM_tokens_fake)+len(LEMM_tokens_real)}')\n",
    "\n",
    "LEMM_tokensFreq_real  = FreqDist(LEMM_tokens_real)\n",
    "LEMM_tokensFreq_fake  = FreqDist(LEMM_tokens_fake)\n",
    "\n",
    "LEMM_df_fake = pd.DataFrame(LEMM_tokensFreq_fake.most_common(15), columns=['Слова', 'Частота'])\n",
    "LEMM_df_real = pd.DataFrame(LEMM_tokensFreq_real.most_common(15), columns=['Слова', 'Частота'])\n",
    "\n",
    "f, axs = plt.subplots(1, 2, figsize=(13, 5))\n",
    "sns.barplot(y=\"Слова\", x=\"Частота\",  data=LEMM_df_real, ax=axs[0])\n",
    "sns.barplot(y=\"Слова\", x=\"Частота\",  data=LEMM_df_fake, ax=axs[1])\n",
    "axs[0].set_title('Реальные новости')\n",
    "axs[1].set_title('Выдуманные новости')\n",
    "f.tight_layout()\n",
    "plt.subplots_adjust(wspace=0.5)"
   ]
  }
 ],
 "metadata": {
  "kernelspec": {
   "display_name": "Python 3",
   "language": "python",
   "name": "python3"
  },
  "language_info": {
   "codemirror_mode": {
    "name": "ipython",
    "version": 3
   },
   "file_extension": ".py",
   "mimetype": "text/x-python",
   "name": "python",
   "nbconvert_exporter": "python",
   "pygments_lexer": "ipython3",
   "version": "3.8.8"
  },
  "toc": {
   "base_numbering": 1,
   "nav_menu": {
    "height": "262.975px",
    "width": "249.259px"
   },
   "number_sections": true,
   "sideBar": true,
   "skip_h1_title": false,
   "title_cell": "Table of Contents",
   "title_sidebar": "Contents",
   "toc_cell": false,
   "toc_position": {},
   "toc_section_display": true,
   "toc_window_display": false
  }
 },
 "nbformat": 4,
 "nbformat_minor": 5
}
